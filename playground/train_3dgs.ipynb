{
 "cells": [
  {
   "cell_type": "code",
   "execution_count": 3,
   "id": "62a92000",
   "metadata": {},
   "outputs": [],
   "source": [
    "%load_ext autoreload\n",
    "%autoreload 2"
   ]
  },
  {
   "cell_type": "code",
   "execution_count": 4,
   "id": "8fd4c609",
   "metadata": {},
   "outputs": [],
   "source": [
    "import sys\n",
    "sys.path.append(\"..\")"
   ]
  },
  {
   "cell_type": "code",
   "execution_count": 9,
   "id": "e6eaaeb6",
   "metadata": {},
   "outputs": [],
   "source": [
    "from utils.io import load_frame_map_jsonl_restore\n",
    "from preprocess.helpers.cameras import load_camdicts_json"
   ]
  },
  {
   "cell_type": "code",
   "execution_count": 10,
   "id": "e0c2e034",
   "metadata": {},
   "outputs": [
    {
     "name": "stdout",
     "output_type": "stream",
     "text": [
      "Loaded cam_dicts from /scratch/izar/cizinsky/thesis/output/modric_vs_ribberi/preprocess/cam_dicts.json, 87 frames\n"
     ]
    }
   ],
   "source": [
    "SCENE_ROOT = \"/scratch/izar/cizinsky/thesis/output/modric_vs_ribberi\"\n",
    "\n",
    "frame_results_path = f\"{SCENE_ROOT}/preprocess/frame_map.jsonl\"\n",
    "scene_root = f\"{SCENE_ROOT}/preprocess/\"\n",
    "h4d_results = load_frame_map_jsonl_restore(frame_results_path, scene_root=scene_root)\n",
    "\n",
    "cam_dicts_path = f\"{SCENE_ROOT}/preprocess/cam_dicts.json\"\n",
    "default_cam_dicts = load_camdicts_json(cam_dicts_path)"
   ]
  },
  {
   "cell_type": "code",
   "execution_count": 15,
   "id": "982ea717",
   "metadata": {},
   "outputs": [
    {
     "data": {
      "text/plain": [
       "dict_keys(['bbox', 'smpl_param', 'phalp_j3ds', 'phalp_j2ds', 'phalp_mask'])"
      ]
     },
     "execution_count": 15,
     "metadata": {},
     "output_type": "execute_result"
    }
   ],
   "source": [
    "h4d_results[0][1].keys()"
   ]
  },
  {
   "cell_type": "code",
   "execution_count": 13,
   "id": "6f3f5df2",
   "metadata": {},
   "outputs": [
    {
     "data": {
      "text/plain": [
       "{'fid': 0,\n",
       " 'H': 720,\n",
       " 'W': 1280,\n",
       " 'f': 25000.0,\n",
       " 'fx': 25000.0,\n",
       " 'fy': 25000.0,\n",
       " 'cx': 640.0,\n",
       " 'cy': 360.0,\n",
       " 'w2c': array([[1., 0., 0., 0.],\n",
       "        [0., 1., 0., 0.],\n",
       "        [0., 0., 1., 0.],\n",
       "        [0., 0., 0., 1.]], dtype=float32),\n",
       " 'intrinsic': array([[2.5e+04, 0.0e+00, 6.4e+02, 0.0e+00],\n",
       "        [0.0e+00, 2.5e+04, 3.6e+02, 0.0e+00],\n",
       "        [0.0e+00, 0.0e+00, 1.0e+00, 0.0e+00],\n",
       "        [0.0e+00, 0.0e+00, 0.0e+00, 1.0e+00]], dtype=float32),\n",
       " 'projection': array([[2.5e+04, 0.0e+00, 6.4e+02, 0.0e+00],\n",
       "        [0.0e+00, 2.5e+04, 3.6e+02, 0.0e+00],\n",
       "        [0.0e+00, 0.0e+00, 1.0e+00, 0.0e+00],\n",
       "        [0.0e+00, 0.0e+00, 0.0e+00, 1.0e+00]], dtype=float32)}"
      ]
     },
     "execution_count": 13,
     "metadata": {},
     "output_type": "execute_result"
    }
   ],
   "source": [
    "default_cam_dicts[0]"
   ]
  },
  {
   "cell_type": "code",
   "execution_count": null,
   "id": "dcb8aa34",
   "metadata": {},
   "outputs": [],
   "source": []
  }
 ],
 "metadata": {
  "kernelspec": {
   "display_name": "thesis",
   "language": "python",
   "name": "python3"
  },
  "language_info": {
   "codemirror_mode": {
    "name": "ipython",
    "version": 3
   },
   "file_extension": ".py",
   "mimetype": "text/x-python",
   "name": "python",
   "nbconvert_exporter": "python",
   "pygments_lexer": "ipython3",
   "version": "3.10.18"
  }
 },
 "nbformat": 4,
 "nbformat_minor": 5
}
