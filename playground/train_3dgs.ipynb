{
 "cells": [
  {
   "cell_type": "code",
   "execution_count": 1,
   "id": "62a92000",
   "metadata": {},
   "outputs": [],
   "source": [
    "%load_ext autoreload\n",
    "%autoreload 2"
   ]
  },
  {
   "cell_type": "code",
   "execution_count": 2,
   "id": "8fd4c609",
   "metadata": {},
   "outputs": [],
   "source": [
    "import sys\n",
    "sys.path.append(\"..\")"
   ]
  },
  {
   "cell_type": "code",
   "execution_count": null,
   "id": "e6eaaeb6",
   "metadata": {},
   "outputs": [],
   "source": [
    "from utils.io import load_frame_map_jsonl_restore\n",
    "from preprocess.helpers.cameras import load_camdicts_json"
   ]
  },
  {
   "cell_type": "code",
   "execution_count": null,
   "id": "e0c2e034",
   "metadata": {},
   "outputs": [
    {
     "name": "stdout",
     "output_type": "stream",
     "text": [
      "Loaded cam_dicts from /scratch/izar/cizinsky/thesis/output/modric_vs_ribberi/preprocess/cam_dicts.json, 87 frames\n"
     ]
    }
   ],
   "source": [
    "SCENE_ROOT = \"/scratch/izar/cizinsky/thesis/output/modric_vs_ribberi\"\n",
    "\n",
    "frame_results_path = f\"{SCENE_ROOT}/preprocess/frame_map.jsonl\"\n",
    "scene_root = f\"{SCENE_ROOT}/preprocess/\"\n",
    "h4d_results = load_frame_map_jsonl_restore(frame_results_path, scene_root=scene_root)\n",
    "\n",
    "cam_dicts_path = f\"{SCENE_ROOT}/preprocess/cam_dicts.json\"\n",
    "default_cam_dicts = load_camdicts_json(cam_dicts_path)"
   ]
  }
 ],
 "metadata": {
  "kernelspec": {
   "display_name": "thesis",
   "language": "python",
   "name": "python3"
  },
  "language_info": {
   "codemirror_mode": {
    "name": "ipython",
    "version": 3
   },
   "file_extension": ".py",
   "mimetype": "text/x-python",
   "name": "python",
   "nbconvert_exporter": "python",
   "pygments_lexer": "ipython3",
   "version": "3.10.18"
  }
 },
 "nbformat": 4,
 "nbformat_minor": 5
}
