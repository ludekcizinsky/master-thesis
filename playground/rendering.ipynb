{
 "cells": [
  {
   "cell_type": "code",
   "execution_count": 1,
   "id": "3c0bd81e",
   "metadata": {},
   "outputs": [],
   "source": [
    "%load_ext autoreload\n",
    "%autoreload 2"
   ]
  },
  {
   "cell_type": "code",
   "execution_count": 2,
   "id": "e9801392",
   "metadata": {},
   "outputs": [],
   "source": [
    "import sys\n",
    "sys.path.append(\"..\")"
   ]
  },
  {
   "cell_type": "code",
   "execution_count": 14,
   "id": "e0e6941a",
   "metadata": {},
   "outputs": [],
   "source": [
    "import joblib\n",
    "from pathlib import Path\n",
    "import os\n",
    "import cv2\n",
    "\n",
    "from utils.render import render_w_pytorch3d\n",
    "from utils.smpl_deformer.smpl_server import SMPLServer\n",
    "from utils.io import load_frame_map_jsonl_restore\n",
    "from preprocess.helpers.cameras import load_default_camdicts\n",
    "from preprocess.helpers.video_utils import load_images\n",
    "\n",
    "import numpy as np\n",
    "from ipywidgets import interact, IntSlider\n",
    "import matplotlib.pyplot as plt"
   ]
  },
  {
   "cell_type": "code",
   "execution_count": 4,
   "id": "26b705c6",
   "metadata": {},
   "outputs": [],
   "source": [
    "output_dir = \"/scratch/izar/cizinsky/thesis/output/modric_vs_ribberi\"\n",
    "frame_path_path = f\"{output_dir}/preprocess/frame_map.jsonl\"\n",
    "scene_root = f\"{output_dir}/preprocess/\"\n",
    "h4d_results = load_frame_map_jsonl_restore(frame_path_path, scene_root=scene_root)\n",
    "\n",
    "phalp_res_path = f\"{output_dir}/phalp_v2/results/demo_images.pkl\"\n",
    "default_cam_dicts = load_default_camdicts(phalp_res_path)\n",
    "\n",
    "\n",
    "img_path = os.path.join(scene_root, \"images\")\n",
    "rgb_images = load_images(img_path)"
   ]
  },
  {
   "cell_type": "code",
   "execution_count": 5,
   "id": "5b297bb2",
   "metadata": {},
   "outputs": [
    {
     "name": "stderr",
     "output_type": "stream",
     "text": [
      "Render (PyTorch3D):  97%|█████████▋| 84/87 [00:03<00:00, 25.46it/s]"
     ]
    },
    {
     "name": "stdout",
     "output_type": "stream",
     "text": [
      "Bin size was too small in the coarse rasterization phase. This caused an overflow, meaning output may be incomplete. To solve, try increasing max_faces_per_bin / max_points_per_bin, decreasing bin_size, or setting bin_size to 0 to use the naive rasterization.Bin size was too small in the coarse rasterization phase. This caused an overflow, meaning output may be incomplete. To solve, try increasing max_faces_per_bin / max_points_per_bin, decreasing bin_size, or setting bin_size to 0 to use the naive rasterization.Bin size was too small in the coarse rasterization phase. This caused an overflow, meaning output may be incomplete. To solve, try increasing max_faces_per_bin / max_points_per_bin, decreasing bin_size, or setting bin_size to 0 to use the naive rasterization.Bin size was too small in the coarse rasterization phase. This caused an overflow, meaning output may be incomplete. To solve, try increasing max_faces_per_bin / max_points_per_bin, decreasing bin_size, or setting bin_size to 0 to use the naive rasterization.Bin size was too small in the coarse rasterization phase. This caused an overflow, meaning output may be incomplete. To solve, try increasing max_faces_per_bin / max_points_per_bin, decreasing bin_size, or setting bin_size to 0 to use the naive rasterization."
     ]
    },
    {
     "name": "stderr",
     "output_type": "stream",
     "text": [
      "Render (PyTorch3D): 100%|██████████| 87/87 [00:03<00:00, 25.96it/s]\n"
     ]
    }
   ],
   "source": [
    "smpl_server = SMPLServer()\n",
    "out = render_w_pytorch3d(\n",
    "    default_cam_dicts,\n",
    "    h4d_results,\n",
    "    smpl_server,\n",
    "    smpl_server.smpl.faces,\n",
    "    zoom_scale=1\n",
    ")"
   ]
  },
  {
   "cell_type": "code",
   "execution_count": 21,
   "id": "0614c500",
   "metadata": {},
   "outputs": [
    {
     "data": {
      "application/vnd.jupyter.widget-view+json": {
       "model_id": "b3036903b19145f69dc88f740bc87045",
       "version_major": 2,
       "version_minor": 0
      },
      "text/plain": [
       "interactive(children=(IntSlider(value=0, description='i', max=86), Output()), _dom_classes=('widget-interact',…"
      ]
     },
     "metadata": {},
     "output_type": "display_data"
    }
   ],
   "source": [
    "fids = sorted(out.keys())\n",
    "@interact(i=IntSlider(min=0, max=len(fids)-1, step=1, value=0))\n",
    "def show(i=0):\n",
    "    fid = fids[i]\n",
    "\n",
    "    rend = out[fid]  # (H,W,4), RGBA, uint8\n",
    "    smpl_rgb = rend[..., :3].astype(np.float32) / 255.0\n",
    "    a = rend[..., 3:4].astype(np.float32) / 255.0   # (H,W,1)\n",
    "\n",
    "    frame = rgb_images[fid].astype(np.float32) / 255.0\n",
    "    frame = cv2.cvtColor(frame, cv2.COLOR_BGR2RGB)\n",
    "    comp = smpl_rgb * a + frame * (0.8 - a)\n",
    "        \n",
    "    plt.figure(figsize=(10,6))\n",
    "    plt.imshow(comp)\n",
    "    plt.axis('off')"
   ]
  }
 ],
 "metadata": {
  "kernelspec": {
   "display_name": "thesis",
   "language": "python",
   "name": "python3"
  },
  "language_info": {
   "codemirror_mode": {
    "name": "ipython",
    "version": 3
   },
   "file_extension": ".py",
   "mimetype": "text/x-python",
   "name": "python",
   "nbconvert_exporter": "python",
   "pygments_lexer": "ipython3",
   "version": "3.10.18"
  }
 },
 "nbformat": 4,
 "nbformat_minor": 5
}
