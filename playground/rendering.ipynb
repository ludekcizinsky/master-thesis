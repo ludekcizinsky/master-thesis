{
 "cells": [
  {
   "cell_type": "code",
   "execution_count": null,
   "id": "3c0bd81e",
   "metadata": {},
   "outputs": [],
   "source": [
    "%load_ext autoreload\n",
    "%autoreload 2"
   ]
  },
  {
   "cell_type": "code",
   "execution_count": null,
   "id": "e9801392",
   "metadata": {},
   "outputs": [],
   "source": [
    "import sys\n",
    "sys.path.append(\"..\")"
   ]
  },
  {
   "cell_type": "code",
   "execution_count": null,
   "id": "e0e6941a",
   "metadata": {},
   "outputs": [],
   "source": [
    "import joblib\n",
    "from pathlib import Path\n",
    "import os\n",
    "import cv2\n",
    "\n",
    "from utils.render import render_w_pytorch3d\n",
    "from utils.smpl_deformer.smpl_server import SMPLServer\n",
    "from utils.io import load_frame_map_jsonl_restore\n",
    "from preprocess.helpers.cameras import load_default_camdicts\n",
    "from preprocess.helpers.video_utils import load_images\n",
    "\n",
    "import numpy as np\n",
    "from ipywidgets import interact, IntSlider\n",
    "import matplotlib.pyplot as plt"
   ]
  },
  {
   "cell_type": "code",
   "execution_count": null,
   "id": "26b705c6",
   "metadata": {},
   "outputs": [],
   "source": [
    "output_dir = \"/scratch/izar/cizinsky/thesis/output/modric_vs_ribberi\"\n",
    "frame_path_path = f\"{output_dir}/preprocess/frame_map.jsonl\"\n",
    "scene_root = f\"{output_dir}/preprocess/\"\n",
    "h4d_results = load_frame_map_jsonl_restore(frame_path_path, scene_root=scene_root)\n",
    "\n",
    "phalp_res_path = f\"{output_dir}/phalp_v2/results/demo_images.pkl\"\n",
    "default_cam_dicts = load_default_camdicts(phalp_res_path)\n",
    "\n",
    "\n",
    "img_path = os.path.join(scene_root, \"images\")\n",
    "rgb_images = load_images(img_path)"
   ]
  },
  {
   "cell_type": "code",
   "execution_count": null,
   "id": "5b297bb2",
   "metadata": {},
   "outputs": [],
   "source": [
    "smpl_server = SMPLServer()\n",
    "out = render_w_pytorch3d(\n",
    "    default_cam_dicts,\n",
    "    h4d_results,\n",
    "    smpl_server,\n",
    "    smpl_server.smpl.faces,\n",
    "    zoom_scale=1\n",
    ")"
   ]
  },
  {
   "cell_type": "code",
   "execution_count": null,
   "id": "0614c500",
   "metadata": {},
   "outputs": [],
   "source": [
    "fids = sorted(out.keys())\n",
    "@interact(i=IntSlider(min=0, max=len(fids)-1, step=1, value=0))\n",
    "def show(i=0):\n",
    "    fid = fids[i]\n",
    "\n",
    "    rend = out[fid]  # (H,W,4), RGBA, uint8\n",
    "    smpl_rgb = rend[..., :3].astype(np.float32) / 255.0\n",
    "    a = rend[..., 3:4].astype(np.float32) / 255.0   # (H,W,1)\n",
    "\n",
    "    frame = rgb_images[fid].astype(np.float32) / 255.0\n",
    "    frame = cv2.cvtColor(frame, cv2.COLOR_BGR2RGB)\n",
    "    comp = smpl_rgb * a + frame * (0.8 - a)\n",
    "        \n",
    "    plt.figure(figsize=(10,6))\n",
    "    plt.imshow(comp)\n",
    "    plt.axis('off')"
   ]
  },
  {
   "cell_type": "code",
   "execution_count": null,
   "id": "109e691b",
   "metadata": {},
   "outputs": [],
   "source": [
    "import torch\n",
    "from gsplat import rasterization\n",
    "import matplotlib.pyplot as plt\n",
    "import numpy as np\n",
    "\n",
    "from PIL import Image"
   ]
  },
  {
   "cell_type": "code",
   "execution_count": null,
   "id": "f4442bc8",
   "metadata": {},
   "outputs": [],
   "source": [
    "device = torch.device(\"cuda:0\" if torch.cuda.is_available() else \"cpu\")\n",
    "# define Gaussians\n",
    "means = torch.randn((100, 3), device=device)\n",
    "quats = torch.randn((100, 4), device=device)\n",
    "scales = torch.rand((100, 3), device=device) * 0.1\n",
    "colors = torch.rand((100, 3), device=device)\n",
    "opacities = torch.rand((100,), device=device)\n",
    "\n",
    "# define cameras\n",
    "viewmats = torch.eye(4, device=device).unsqueeze(0)\n",
    "Ks = torch.tensor([\n",
    "   [300., 0., 150.], [0., 300., 100.], [0., 0., 1.]], device=device).unsqueeze(0)\n",
    "width, height = 300, 200"
   ]
  },
  {
   "cell_type": "code",
   "execution_count": null,
   "id": "99232a22",
   "metadata": {},
   "outputs": [],
   "source": [
    "# render\n",
    "colors, alphas, meta = rasterization(\n",
    "   means, quats, scales, opacities, colors, viewmats, Ks, width, height, \n",
    ")\n",
    "\n",
    "# visualize\n",
    "plt.figure(figsize=(10,6))\n",
    "plt.imshow(colors.squeeze().cpu().numpy())\n",
    "plt.axis('off')"
   ]
  },
  {
   "cell_type": "code",
   "execution_count": null,
   "id": "7550c507",
   "metadata": {},
   "outputs": [],
   "source": [
    "# save the image\n",
    "im = Image.fromarray((colors.squeeze().cpu().numpy() * 255).astype(np.uint8))\n",
    "im.save(\"test_render.png\")"
   ]
  },
  {
   "cell_type": "code",
   "execution_count": null,
   "id": "1f453283",
   "metadata": {},
   "outputs": [],
   "source": [
    "from hydra import initialize, compose\n",
    "from training.run import Trainer, lbs_apply\n",
    "from training.helpers.utils import init_logging"
   ]
  },
  {
   "cell_type": "code",
   "execution_count": null,
   "id": "2757134e",
   "metadata": {},
   "outputs": [],
   "source": [
    "# Point to your config directory (relative to the notebook location)\n",
    "config_path = \"../configs\"   # adjust if needed\n",
    "\n",
    "# Initialize Hydra\n",
    "with initialize(config_path=config_path, version_base=None):\n",
    "    cfg = compose(config_name=\"train.yaml\", overrides=[\"scene_name=modric_vs_ribberi\"])\n",
    "\n",
    "print(\"ℹ️ Initializing Trainer\")\n",
    "init_logging(cfg)\n",
    "trainer = Trainer(cfg)\n",
    "print(\"✅ Trainer initialized.\\n\")"
   ]
  },
  {
   "cell_type": "code",
   "execution_count": null,
   "id": "03991066",
   "metadata": {},
   "outputs": [],
   "source": [
    "loader = trainer.loader\n",
    "batch = next(iter(loader))\n",
    "\n",
    "device, dtype = trainer.device, torch.float32\n",
    "\n",
    "# Fetch data\n",
    "image = batch[\"image\"].squeeze(0).to(device)  # [3,H,W]\n",
    "mask  = batch[\"mask\"].squeeze(0).to(device)   # [H,W]\n",
    "K  = batch[\"K\"].squeeze(0).to(device)      # [3,3]\n",
    "smpl_param = batch[\"smpl_param\"].to(device)  # [1,86]\n",
    "dev_height, dev_width = image.shape[-2:]\n",
    "\n",
    "# Prepare gaussians\n",
    "# - Means\n",
    "out = trainer.smpl_server(smpl_param, absolute=False)\n",
    "T_rel = out[\"smpl_tfs\"][0]   # [24,4,4]\n",
    "dev_means = lbs_apply(trainer.gaus.means_c, trainer.gaus.weights_c, T_rel)  # [M,3]\n",
    "# dev_means[:, 0] *= -1.0\n",
    "# dev_means[:, 1] *= -1.0\n",
    "# dev_means[:, 2] *= -1.0\n",
    "\n",
    "# - Quats\n",
    "M = dev_means.shape[0]\n",
    "dev_quats = torch.zeros(M, 4, device=device, dtype=dtype)\n",
    "dev_quats[:, 0] = 1.0\n",
    "# - Scales\n",
    "dev_scales = trainer.gaus.scales().unsqueeze(1).expand(-1, 3).contiguous() # isotropic scales\n",
    "# - Colours\n",
    "dev_colors = trainer.gaus.colors.clamp(0, 1)\n",
    "# - Opacity\n",
    "dev_opacity = trainer.gaus.opacity()\n",
    "\n",
    "# Define cameras\n",
    "dev_viewmats = torch.eye(4, device=device, dtype=dtype).unsqueeze(0)   # [1,4,4]\n",
    "dev_Ks = K.to(device, dtype).unsqueeze(0).contiguous()                  # [1,3,3]"
   ]
  },
  {
   "cell_type": "code",
   "execution_count": null,
   "id": "f1f473d3",
   "metadata": {},
   "outputs": [],
   "source": [
    "# Render\n",
    "colors, alphas, meta = rasterization(\n",
    "   dev_means, dev_quats, dev_scales, dev_opacity, dev_colors, dev_viewmats, dev_Ks, dev_width, dev_height\n",
    ")\n",
    "rgb_pred = colors.squeeze().permute(2, 0, 1).detach()\n",
    "\n",
    "# Ensure all are 3×H×W tensors\n",
    "H, W = image.shape[-2:]\n",
    "mask3 = mask.expand_as(image)  # [3,H,W]\n",
    "masked_img = image * mask3\n",
    "\n",
    "# Stack [3, H, W] tensors into [3, H, 3*W]\n",
    "comparison = torch.cat([image, masked_img, rgb_pred], dim=-1)\n",
    "\n",
    "# Convert to uint8 for saving\n",
    "img = (comparison.permute(1,2,0).cpu().numpy().clip(0,1) * 255).astype(np.uint8)\n",
    "Image.fromarray(img)"
   ]
  }
 ],
 "metadata": {
  "kernelspec": {
   "display_name": "thesis",
   "language": "python",
   "name": "python3"
  },
  "language_info": {
   "codemirror_mode": {
    "name": "ipython",
    "version": 3
   },
   "file_extension": ".py",
   "mimetype": "text/x-python",
   "name": "python",
   "nbconvert_exporter": "python",
   "pygments_lexer": "ipython3",
   "version": "3.10.18"
  }
 },
 "nbformat": 4,
 "nbformat_minor": 5
}
