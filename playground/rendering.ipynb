{
 "cells": [
  {
   "cell_type": "code",
   "execution_count": 1,
   "id": "3c0bd81e",
   "metadata": {},
   "outputs": [],
   "source": [
    "%load_ext autoreload\n",
    "%autoreload 2"
   ]
  },
  {
   "cell_type": "code",
   "execution_count": 2,
   "id": "e9801392",
   "metadata": {},
   "outputs": [],
   "source": [
    "import sys\n",
    "sys.path.append(\"..\")"
   ]
  },
  {
   "cell_type": "code",
   "execution_count": 3,
   "id": "e0e6941a",
   "metadata": {},
   "outputs": [],
   "source": [
    "import joblib\n",
    "from pathlib import Path\n",
    "\n",
    "from utils.render import render_w_pytorch3d\n",
    "from utils.smpl_deformer.smpl_server import SMPLServer\n",
    "from utils.io import load_frame_map_jsonl_restore\n",
    "from preprocess.helpers.cameras import load_default_camdicts\n",
    "\n",
    "import numpy as np\n",
    "from ipywidgets import interact, IntSlider\n",
    "import matplotlib.pyplot as plt"
   ]
  },
  {
   "cell_type": "code",
   "execution_count": 5,
   "id": "26b705c6",
   "metadata": {},
   "outputs": [],
   "source": [
    "output_dir = \"/scratch/izar/cizinsky/thesis/output/modric_vs_ribberi\"\n",
    "frame_path_path = f\"{output_dir}/preprocess/frame_map.jsonl\"\n",
    "scene_root = f\"{output_dir}/preprocess/\"\n",
    "h4d_results = load_frame_map_jsonl_restore(frame_path_path, scene_root=scene_root)\n",
    "\n",
    "phalp_res_path = f\"{output_dir}/phalp_v2/results/demo_images.pkl\"\n",
    "default_cam_dicts = load_default_camdicts(phalp_res_path)"
   ]
  },
  {
   "cell_type": "code",
   "execution_count": null,
   "id": "5b297bb2",
   "metadata": {},
   "outputs": [
    {
     "name": "stderr",
     "output_type": "stream",
     "text": [
      "Render (PyTorch3D): 100%|██████████| 87/87 [00:03<00:00, 28.52it/s]"
     ]
    },
    {
     "name": "stdout",
     "output_type": "stream",
     "text": [
      "Bin size was too small in the coarse rasterization phase. This caused an overflow, meaning output may be incomplete. To solve, try increasing max_faces_per_bin / max_points_per_bin, decreasing bin_size, or setting bin_size to 0 to use the naive rasterization.Bin size was too small in the coarse rasterization phase. This caused an overflow, meaning output may be incomplete. To solve, try increasing max_faces_per_bin / max_points_per_bin, decreasing bin_size, or setting bin_size to 0 to use the naive rasterization.Bin size was too small in the coarse rasterization phase. This caused an overflow, meaning output may be incomplete. To solve, try increasing max_faces_per_bin / max_points_per_bin, decreasing bin_size, or setting bin_size to 0 to use the naive rasterization.Bin size was too small in the coarse rasterization phase. This caused an overflow, meaning output may be incomplete. To solve, try increasing max_faces_per_bin / max_points_per_bin, decreasing bin_size, or setting bin_size to 0 to use the naive rasterization."
     ]
    },
    {
     "name": "stderr",
     "output_type": "stream",
     "text": [
      "\n"
     ]
    }
   ],
   "source": [
    "smpl_server = SMPLServer()\n",
    "out = render_w_pytorch3d(\n",
    "    default_cam_dicts,\n",
    "    h4d_results,\n",
    "    smpl_server,\n",
    "    smpl_server.smpl.faces,\n",
    "    zoom_scale=1.5\n",
    ")"
   ]
  },
  {
   "cell_type": "code",
   "execution_count": 8,
   "id": "0614c500",
   "metadata": {},
   "outputs": [
    {
     "data": {
      "application/vnd.jupyter.widget-view+json": {
       "model_id": "84b9af1486554bf8b1d4985652f6986f",
       "version_major": 2,
       "version_minor": 0
      },
      "text/plain": [
       "interactive(children=(IntSlider(value=0, description='i', max=86), Output()), _dom_classes=('widget-interact',…"
      ]
     },
     "metadata": {},
     "output_type": "display_data"
    }
   ],
   "source": [
    "fids = sorted(out.keys())\n",
    "@interact(i=IntSlider(min=0, max=len(fids)-1, step=1, value=0))\n",
    "def show(i=0):\n",
    "    fid = fids[i]\n",
    "    rgb = out[fid]\n",
    "    plt.figure(figsize=(10,6))\n",
    "    plt.imshow(rgb)\n",
    "    plt.axis('off')"
   ]
  }
 ],
 "metadata": {
  "kernelspec": {
   "display_name": "thesis",
   "language": "python",
   "name": "python3"
  },
  "language_info": {
   "codemirror_mode": {
    "name": "ipython",
    "version": 3
   },
   "file_extension": ".py",
   "mimetype": "text/x-python",
   "name": "python",
   "nbconvert_exporter": "python",
   "pygments_lexer": "ipython3",
   "version": "3.10.18"
  }
 },
 "nbformat": 4,
 "nbformat_minor": 5
}
